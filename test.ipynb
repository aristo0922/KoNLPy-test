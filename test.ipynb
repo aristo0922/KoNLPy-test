{
 "cells": [
  {
   "cell_type": "code",
   "execution_count": null,
   "metadata": {},
   "outputs": [],
   "source": [
    "from konlpy.tag import Kkma\n",
    "from konlpy.utils import pprint\n",
    "kkma = Kkma()\n",
    "pprint(kkma.sentences(u'네, 안녕하세요. 반갑습니다. 사과는 맛있고 장아령은 행복하다. 카페 분위기 지린다'))"
   ]
  },
  {
   "cell_type": "code",
   "execution_count": null,
   "metadata": {},
   "outputs": [],
   "source": [
    "pprint(kkma.nouns(u'네, 안녕하세요. 반갑습니다. 사과는 맛있고 장아령은 행복하다. 카페 분위기 지린다.'))\n",
    "type(kkma.nouns(u'네, 안녕하세요. 반갑습니다. 사과는 맛있고 장아령은 행복하다. 카페 분위기 지린다.'))"
   ]
  },
  {
   "cell_type": "code",
   "execution_count": 4,
   "metadata": {},
   "outputs": [
    {
     "ename": "TypeError",
     "evalue": "nouns() got an unexpected keyword argument 'stem'",
     "output_type": "error",
     "traceback": [
      "\u001b[0;31m---------------------------------------------------------------------------\u001b[0m",
      "\u001b[0;31mTypeError\u001b[0m                                 Traceback (most recent call last)",
      "Cell \u001b[0;32mIn[4], line 6\u001b[0m\n\u001b[1;32m      3\u001b[0m test \u001b[39m=\u001b[39m \u001b[39m'\u001b[39m\u001b[39m네, 안녕하세요. 반갑습니다. 사과는 맛있고 장아령은 행복하다. 카페 분위기 지린다\u001b[39m\u001b[39m'\u001b[39m\n\u001b[1;32m      4\u001b[0m okt \u001b[39m=\u001b[39m Okt()\n\u001b[0;32m----> 6\u001b[0m test_list\u001b[39m=\u001b[39m okt\u001b[39m.\u001b[39;49mnouns(test, stem\u001b[39m=\u001b[39;49m\u001b[39mTrue\u001b[39;49;00m, join\u001b[39m=\u001b[39;49m\u001b[39mFalse\u001b[39;49;00m)\n\u001b[1;32m      7\u001b[0m \u001b[39mprint\u001b[39m(test_list)\n\u001b[1;32m      8\u001b[0m \u001b[39mprint\u001b[39m(\u001b[39mtype\u001b[39m(test_list[\u001b[39m8\u001b[39m]))\n",
      "\u001b[0;31mTypeError\u001b[0m: nouns() got an unexpected keyword argument 'stem'"
     ]
    }
   ],
   "source": [
    "from konlpy.tag import Okt\n",
    "\n",
    "test = '네, 안녕하세요. 반갑습니다. 사과는 맛있고 장아령은 행복하다. 카페 분위기 지린다'\n",
    "okt = Okt()\n",
    "\n",
    "# test_list= okt.pos(test, stem=True, join=False)\n",
    "test_list=okt.nouns(test)\n",
    "print(test_list)\n",
    "print(type(test_list[8]))\n",
    "\n",
    "print(test_list[8][0])\n",
    "print(type(test_list[8][0]))\n",
    "\n",
    "item_list=[]\n",
    "except_word=['Josa', 'Punctuation']\n",
    "for item in test_list:\n",
    "    if item[1] in except_word: pass\n",
    "    else:\n",
    "        item_list.append(item)\n",
    "\n",
    "print(\">>> >>> >>>\")\n",
    "print(item_list)\n",
    "print(\">>> >>> >>>\")\n",
    "\n",
    "\n",
    "# print('\\n')\n",
    "# # --- stem 설정만 다름\n",
    "# print(okt.pos(test, norm=True, stem=True))\n",
    "# print('------')\n",
    "# print(okt.pos(test, norm=True))"
   ]
  },
  {
   "cell_type": "code",
   "execution_count": null,
   "metadata": {},
   "outputs": [],
   "source": [
    "test_list"
   ]
  },
  {
   "cell_type": "code",
   "execution_count": null,
   "metadata": {},
   "outputs": [],
   "source": [
    "from min_dalle import MinDalle\n",
    "\n",
    "model = MinDalle(\n",
    "    models_root='./pretrained',\n",
    "    dtype=torch.float32,\n",
    "    device='cuda',\n",
    "    is_mega=True, \n",
    "    is_reusable=True\n",
    ")"
   ]
  }
 ],
 "metadata": {
  "kernelspec": {
   "display_name": "Python 3",
   "language": "python",
   "name": "python3"
  },
  "language_info": {
   "codemirror_mode": {
    "name": "ipython",
    "version": 3
   },
   "file_extension": ".py",
   "mimetype": "text/x-python",
   "name": "python",
   "nbconvert_exporter": "python",
   "pygments_lexer": "ipython3",
   "version": "3.8.6"
  },
  "orig_nbformat": 4,
  "vscode": {
   "interpreter": {
    "hash": "55453a914f088f7e63679d8b656e5594e0216c21c788c3d25c40109a6b74d721"
   }
  }
 },
 "nbformat": 4,
 "nbformat_minor": 2
}
