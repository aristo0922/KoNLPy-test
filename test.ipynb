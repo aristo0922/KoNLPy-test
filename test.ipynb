{
 "cells": [
  {
   "cell_type": "code",
   "execution_count": null,
   "metadata": {},
   "outputs": [],
   "source": [
    "from konlpy.tag import Kkma\n",
    "from konlpy.utils import pprint\n",
    "kkma = Kkma()\n",
    "pprint(kkma.sentences(u'네, 안녕하세요. 반갑습니다. 사과는 맛있고 장아령은 행복하다. 카페 분위기 지린다'))"
   ]
  },
  {
   "cell_type": "code",
   "execution_count": null,
   "metadata": {},
   "outputs": [],
   "source": [
    "pprint(kkma.nouns(u'네, 안녕하세요. 반갑습니다. 사과는 맛있고 장아령은 행복하다. 카페 분위기 지린다.'))\n",
    "type(kkma.nouns(u'네, 안녕하세요. 반갑습니다. 사과는 맛있고 장아령은 행복하다. 카페 분위기 지린다.'))"
   ]
  },
  {
   "cell_type": "code",
   "execution_count": 18,
   "metadata": {},
   "outputs": [
    {
     "name": "stdout",
     "output_type": "stream",
     "text": [
      "('맛있다', 'Adjective')\n",
      "<class 'tuple'>\n",
      "맛있다\n",
      "<class 'str'>\n",
      "\n",
      "\n",
      "[('네', 'Noun'), (',', 'Punctuation'), ('안녕하다', 'Adjective'), ('.', 'Punctuation'), ('반갑다', 'Adjective'), ('.', 'Punctuation'), ('사과', 'Noun'), ('는', 'Josa'), ('맛있다', 'Adjective'), ('장', 'Noun'), ('아령', 'Noun'), ('은', 'Josa'), ('행복하다', 'Adjective'), ('.', 'Punctuation'), ('카페', 'Noun'), ('분위기', 'Noun'), ('지', 'Modifier'), ('린다', 'Noun')]\n",
      "------\n",
      "[('네', 'Noun'), (',', 'Punctuation'), ('안녕하세요', 'Adjective'), ('.', 'Punctuation'), ('반갑습니다', 'Adjective'), ('.', 'Punctuation'), ('사과', 'Noun'), ('는', 'Josa'), ('맛있고', 'Adjective'), ('장', 'Noun'), ('아령', 'Noun'), ('은', 'Josa'), ('행복하다', 'Adjective'), ('.', 'Punctuation'), ('카페', 'Noun'), ('분위기', 'Noun'), ('지', 'Modifier'), ('린다', 'Noun')]\n"
     ]
    }
   ],
   "source": [
    "from konlpy.tag import Okt\n",
    "\n",
    "test = '네, 안녕하세요. 반갑습니다. 사과는 맛있고 장아령은 행복하다. 카페 분위기 지린다'\n",
    "okt = Okt()\n",
    "\n",
    "test_list= okt.pos(test, stem=True, join=False)\n",
    "print(test_list[8])\n",
    "print(type(test_list[8]))\n",
    "\n",
    "print(test_list[8][0])\n",
    "print(type(test_list[8][0]))\n",
    "\n",
    "print('\\n')\n",
    "# --- stem 설정만 다름\n",
    "print(okt.pos(test, norm=True, stem=True))\n",
    "print('------')\n",
    "print(okt.pos(test, norm=True))"
   ]
  }
 ],
 "metadata": {
  "kernelspec": {
   "display_name": "Python 3",
   "language": "python",
   "name": "python3"
  },
  "language_info": {
   "codemirror_mode": {
    "name": "ipython",
    "version": 3
   },
   "file_extension": ".py",
   "mimetype": "text/x-python",
   "name": "python",
   "nbconvert_exporter": "python",
   "pygments_lexer": "ipython3",
   "version": "3.8.6"
  },
  "orig_nbformat": 4,
  "vscode": {
   "interpreter": {
    "hash": "55453a914f088f7e63679d8b656e5594e0216c21c788c3d25c40109a6b74d721"
   }
  }
 },
 "nbformat": 4,
 "nbformat_minor": 2
}
